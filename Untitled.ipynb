{
 "cells": [
  {
   "cell_type": "code",
   "execution_count": 3,
   "metadata": {},
   "outputs": [
    {
     "ename": "ModuleNotFoundError",
     "evalue": "No module named 'shapely'",
     "output_type": "error",
     "traceback": [
      "\u001b[0;31m---------------------------------------------------------------------------\u001b[0m",
      "\u001b[0;31mModuleNotFoundError\u001b[0m                       Traceback (most recent call last)",
      "\u001b[0;32m<ipython-input-3-d1b97820095c>\u001b[0m in \u001b[0;36m<module>\u001b[0;34m()\u001b[0m\n\u001b[1;32m      1\u001b[0m \u001b[0;32mimport\u001b[0m \u001b[0mpandas\u001b[0m \u001b[0;32mas\u001b[0m \u001b[0mpf\u001b[0m\u001b[0;34m\u001b[0m\u001b[0m\n\u001b[0;32m----> 2\u001b[0;31m \u001b[0;32mfrom\u001b[0m \u001b[0mshapely\u001b[0m \u001b[0;32mimport\u001b[0m \u001b[0mwkt\u001b[0m\u001b[0;34m\u001b[0m\u001b[0m\n\u001b[0m\u001b[1;32m      3\u001b[0m \u001b[0;32mfrom\u001b[0m \u001b[0msimplekml\u001b[0m \u001b[0;32mimport\u001b[0m \u001b[0mKml\u001b[0m\u001b[0;34m,\u001b[0m\u001b[0mColor\u001b[0m\u001b[0;34m\u001b[0m\u001b[0m\n\u001b[1;32m      4\u001b[0m \u001b[0;32mimport\u001b[0m \u001b[0mpymssql\u001b[0m\u001b[0;34m\u001b[0m\u001b[0m\n",
      "\u001b[0;31mModuleNotFoundError\u001b[0m: No module named 'shapely'"
     ]
    }
   ],
   "source": [
    "import pandas as pf\n",
    "from shapely import wkt\n",
    "from simplekml import Kml,Color\n",
    "import pymssql"
   ]
  },
  {
   "cell_type": "code",
   "execution_count": null,
   "metadata": {},
   "outputs": [],
   "source": [
    "query = ''\n",
    "sql_conn = pymssql.connect(server, uid, password, database)\n",
    "df = pd.read_sql(query, sql_conn)"
   ]
  },
  {
   "cell_type": "code",
   "execution_count": null,
   "metadata": {
    "code_folding": []
   },
   "outputs": [],
   "source": [
    "kml=Kml(name=, open=1)\n",
    "schema = kml.newschema(name = '')\n",
    "\n",
    "#create schema (attribute)\n",
    "for n in range(len(df.columns)):\n",
    "    schema.newsimplefield(name=str(df.columns[n],type='string')\n",
    "                          \n",
    "                          \n",
    "#create polygons\n",
    "for i in range(len(df)):\n",
    "    poly = wkt.loads(df['geometry'][i])\n",
    "    gps = poly.exterior.coords\n",
    "    gps_kml_format = [(coord[0],coords[1]) for coord in gps]\n",
    "    box = kml.newpolygon()\n",
    "    box.outerboundary = gps_kml_format\n",
    "                          \n",
    "    for m in range(len(df,columns)):\n",
    "        box.extendeddata.schemadata.newsimpledata(name = str(df.columns[m], value=str(df.iloc[i,m])))\n",
    "   \n",
    "    if df.loc[i,'flower_color'] == 'yellow':\n",
    "        box.name=str(i+1)+':yellow flower'\n",
    "        box.style.linestyle.color=Color.yellow\n",
    "        box.style.linestyle.width = 1\n",
    "        box.style.polystyle.color = Color.changealphaint(125, Color.yellow)\n",
    "                          \n",
    "    elif df.loc[i,'flower_color'] == 'yellow':\n",
    "         box.name=str(i+1)+':yellow flower'\n",
    "         box.style.linestyle.color=Color.yellow\n",
    "         box.style.linestyle.width = 1\n",
    "         box.style.polystyle.color = Color.changealphaint(125, Color.yellow)\n",
    "    \n",
    "    else:\n",
    "         box.name=str(i+1)+':yellow flower'\n",
    "         box.style.linestyle.color=Color.yellow\n",
    "         box.style.linestyle.width = 1\n",
    "         box.style.polystyle.color = Color.changealphaint(125, Color.yellow)\n",
    "                          \n",
    "kml.save('')"
   ]
  }
 ],
 "metadata": {
  "kernelspec": {
   "display_name": "Python 3",
   "language": "python",
   "name": "python3"
  },
  "language_info": {
   "codemirror_mode": {
    "name": "ipython",
    "version": 3
   },
   "file_extension": ".py",
   "mimetype": "text/x-python",
   "name": "python",
   "nbconvert_exporter": "python",
   "pygments_lexer": "ipython3",
   "version": "3.6.4"
  }
 },
 "nbformat": 4,
 "nbformat_minor": 2
}
